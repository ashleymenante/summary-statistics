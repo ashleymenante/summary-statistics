{
 "cells": [
  {
   "cell_type": "code",
   "execution_count": 30,
   "metadata": {},
   "outputs": [
    {
     "name": "stdout",
     "output_type": "stream",
     "text": [
      "mean:  9.857142857142858\n",
      "median:  10.0\n",
      "variance:  6.408163265306122\n",
      "std deviation:  2.531435020952764\n",
      "std error:  1.0334540197243194\n",
      "Mode: 8\n"
     ]
    }
   ],
   "source": [
    "import numpy as np\n",
    "\n",
    "ages1 =[14,12,11,10,8,6,8]\n",
    "\n",
    "def age_stats(ages):\n",
    "    print('mean: ',np.mean(ages))\n",
    "    print('median: ',np.median(ages))\n",
    "    print('variance: ',np.var(ages))\n",
    "    print('std deviation: ',np.std(ages))\n",
    "    print('std error: ',np.std(ages)/np.sqrt(len(ages)-1))\n",
    "    \n",
    "age_stats(ages1)\n",
    "print('Mode: 8')"
   ]
  },
  {
   "cell_type": "markdown",
   "metadata": {},
   "source": [
    "Central tendency: Mean\n",
    "Means of variance: Standard Deviation \n",
    "\n",
    "Since the mean and median are close in value, the data is normally distributed.  Therefore, the mean and std deviation would be the best measures of central tendency and variance."
   ]
  },
  {
   "cell_type": "code",
   "execution_count": 31,
   "metadata": {},
   "outputs": [
    {
     "name": "stdout",
     "output_type": "stream",
     "text": [
      "mean:  10.0\n",
      "median:  10.0\n",
      "variance:  5.428571428571429\n",
      "std deviation:  2.32992949004287\n",
      "std error:  0.951189731211342\n",
      "Mode: 8\n"
     ]
    }
   ],
   "source": [
    "ages2 = [14,12,11,10,8,7,8]\n",
    "age_stats(ages2)\n",
    "print('Mode: 8')"
   ]
  },
  {
   "cell_type": "markdown",
   "metadata": {},
   "source": [
    "The median and mode remained the same, and everything else changed.   "
   ]
  },
  {
   "cell_type": "code",
   "execution_count": 32,
   "metadata": {},
   "outputs": [
    {
     "name": "stdout",
     "output_type": "stream",
     "text": [
      "mean:  9.0\n",
      "median:  10.0\n",
      "variance:  15.428571428571429\n",
      "std deviation:  3.927922024247863\n",
      "std error:  1.6035674514745466\n",
      "Mode: None\n"
     ]
    }
   ],
   "source": [
    "ages3 = [14,12,11,10,8,7,1]\n",
    "age_stats(ages3)\n",
    "print('Mode: None')"
   ]
  },
  {
   "cell_type": "markdown",
   "metadata": {},
   "source": [
    "Due to the replacement of one datapoint with an outlier, the distribution of the data became skewed.  Since the mean is affected by the presence of an outlier, but the median is not, the median becomes the best measure of central tendency.   "
   ]
  },
  {
   "cell_type": "code",
   "execution_count": 33,
   "metadata": {},
   "outputs": [
    {
     "data": {
      "text/plain": [
       "20.0"
      ]
     },
     "execution_count": 33,
     "metadata": {},
     "output_type": "execute_result"
    }
   ],
   "source": [
    "(20+23+17)/3"
   ]
  },
  {
   "cell_type": "markdown",
   "metadata": {},
   "source": [
    "20% of adult Americans were Brady Bunch fans on the 50th anniversary of the show. "
   ]
  }
 ],
 "metadata": {
  "kernelspec": {
   "display_name": "Python 3",
   "language": "python",
   "name": "python3"
  },
  "language_info": {
   "codemirror_mode": {
    "name": "ipython",
    "version": 3
   },
   "file_extension": ".py",
   "mimetype": "text/x-python",
   "name": "python",
   "nbconvert_exporter": "python",
   "pygments_lexer": "ipython3",
   "version": "3.7.3"
  }
 },
 "nbformat": 4,
 "nbformat_minor": 2
}
